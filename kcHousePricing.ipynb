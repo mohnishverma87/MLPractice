{
  "cells": [
    {
      "metadata": {
        "_uuid": "8f2839f25d086af736a60e9eeb907d3b93b6e0e5",
        "_cell_guid": "b1076dfc-b9ad-4769-8c92-a6c4dae69d19",
        "trusted": true
      },
      "cell_type": "code",
      "source": "# This Python 3 environment comes with many helpful analytics libraries installed\n# It is defined by the kaggle/python docker image: https://github.com/kaggle/docker-python\n# For example, here's several helpful packages to load in \n\nimport numpy as np # linear algebra\nimport pandas as pd # data processing, CSV file I/O (e.g. pd.read_csv)\nimport matplotlib.pyplot as plt\nimport seaborn as sns\nfrom sklearn.model_selection import train_test_split\nfrom sklearn.linear_model import LinearRegression\nfrom sklearn.preprocessing import PolynomialFeatures\n\n# Input data files are available in the \"../input/\" directory.\n# For example, running this (by clicking run or pressing Shift+Enter) will list the files in the input directory\n\nimport os\nprint(os.listdir(\"../input/kc-house-dataset\"))\n\n# Any results you write to the current directory are saved as output.",
      "execution_count": null,
      "outputs": []
    },
    {
      "metadata": {
        "trusted": true,
        "_uuid": "e62052e6dc931b093b43859bc379738af7b72f86"
      },
      "cell_type": "code",
      "source": "evaluation = pd.DataFrame({\"Model\":[],\"Details\":[],\"RMSE\":[],\"R2-train\":[],\"Adj-R2-train\":[],\"R2-test\":[],\"Adj-R2-test\":[]})",
      "execution_count": null,
      "outputs": []
    },
    {
      "metadata": {
        "trusted": true,
        "_uuid": "0590aabe92a768228faa572931a890a6a646addf"
      },
      "cell_type": "code",
      "source": "evaluation",
      "execution_count": null,
      "outputs": []
    },
    {
      "metadata": {
        "_cell_guid": "79c7e3d0-c299-4dcb-8224-4455121ee9b0",
        "_uuid": "d629ff2d2480ee46fbb7e2d37f6b5fab8052498a",
        "trusted": true
      },
      "cell_type": "code",
      "source": "dataset = pd.read_csv(\"../input/kc-house-dataset/kc_house_data.csv\")\ndataset.head()",
      "execution_count": null,
      "outputs": []
    },
    {
      "metadata": {
        "trusted": true,
        "_uuid": "b1a1e8190a06fa50a33c5790b499d712e5016170"
      },
      "cell_type": "code",
      "source": "# Differentiate numerical features (minus the target) and categorical features\nprint(\"Numerical features : \" + str(len(dataset.select_dtypes(exclude = [\"object\"]).columns)))\nprint(\"Categorical features : \" + str(len(dataset.select_dtypes(include = [\"object\"]).columns)))",
      "execution_count": null,
      "outputs": []
    },
    {
      "metadata": {
        "trusted": true,
        "_uuid": "5bdf28151dc98051fcb0845064c926af0a03b857"
      },
      "cell_type": "code",
      "source": "def adjustedR2(r2,n,k):\n    return r2 - (k - 1)/(n - k)*(1 - r2)",
      "execution_count": null,
      "outputs": []
    },
    {
      "metadata": {
        "trusted": true,
        "_uuid": "7f8168403dbb719e4dc73e0130b51cb90d183c6f"
      },
      "cell_type": "code",
      "source": "features=[]\nfor i in dataset.columns:\n    features.append(i)",
      "execution_count": null,
      "outputs": []
    },
    {
      "metadata": {
        "trusted": true,
        "_uuid": "11ac3ab3fd45faca70cc6323285b6a26f5848710"
      },
      "cell_type": "code",
      "source": "dataset[features].corr().head()",
      "execution_count": null,
      "outputs": []
    },
    {
      "metadata": {
        "trusted": true,
        "_uuid": "17eddaa9424de25cacae9bb97b7ffe8ba8dd5de3"
      },
      "cell_type": "code",
      "source": "# Lets have Simple Linear Regression B/W sqft_living' and 'price'\ntrain_data,test_data = train_test_split(dataset,test_size=0.2,random_state=42)\nX_train = train_data[\"sqft_living\"].values.reshape(-1,1)\ny_train = train_data[[\"price\"]].values.reshape(-1,1)\nX_test = test_data[\"sqft_living\"].values.reshape(-1,1)\ny_test = test_data[\"price\"].values.reshape(-1,1)\n\nlinreg = LinearRegression()\nlinreg.fit(X_train,y_train)\ny_pred = linreg.predict(X_test)",
      "execution_count": null,
      "outputs": []
    },
    {
      "metadata": {
        "trusted": true,
        "_uuid": "26bb0ace5277ee772f65a258cbdb4a95d04315a6"
      },
      "cell_type": "code",
      "source": "from sklearn import metrics\nmse = np.sqrt(metrics.mean_squared_error(y_test,y_pred))\nR2_test = metrics.r2_score(y_test,y_pred)\nAdj_R2_test = adjustedR2(R2_test,X_test.shape[0],X_test.shape[1])",
      "execution_count": null,
      "outputs": []
    },
    {
      "metadata": {
        "trusted": true,
        "_uuid": "6cba18f4fd41026799d084200ffebcf28e3820f0"
      },
      "cell_type": "code",
      "source": "evaluation=evaluation.append({\"Model\":\"Simple Linear\",\"Details\":\"\",\"RMSE\":mse, \"R2-train\":\"\",\"Adj-R2-train\":\"\",\"R2-test\":R2_test,\"Adj-R2-test\":Adj_R2_test},ignore_index=True)\n#evaluation.drop(evaluation.index,inplace=True)",
      "execution_count": null,
      "outputs": []
    },
    {
      "metadata": {
        "trusted": true,
        "_uuid": "cf1ea46ab402dd3a417351498db1871541e36105"
      },
      "cell_type": "code",
      "source": "evaluation",
      "execution_count": null,
      "outputs": []
    },
    {
      "metadata": {
        "trusted": true,
        "_uuid": "d204ce9433233e5207a4f2b3c22759677172d9f8"
      },
      "cell_type": "code",
      "source": "plt.scatter(X_test,y_test,color='darkgreen',label=\"Data\", alpha=.1)\nplt.plot(X_test,linreg.predict(X_test),color=\"red\",label=\"Predicted Regression Line\")",
      "execution_count": null,
      "outputs": []
    },
    {
      "metadata": {
        "trusted": true,
        "_uuid": "d5acc196450604ca63b95172d2cb09cafefac172"
      },
      "cell_type": "code",
      "source": "# Lets have a multivariate Linear Regression",
      "execution_count": null,
      "outputs": []
    },
    {
      "metadata": {
        "trusted": true,
        "scrolled": true,
        "_uuid": "969b5f2098c7123019484c9241b66f4a36fb10d5"
      },
      "cell_type": "code",
      "source": "correlations=dataset[features].corr()\nmask = np.zeros_like(correlations, dtype=np.bool)\nmask[np.triu_indices_from(mask)]=True\nfig,ax = plt.subplots(figsize=(20,20))\nplt.title(\"Pearson Correlation Matrix\", fontsize=25)\nsns.heatmap(correlations,vmax=1,square=True,annot=True,mask=mask)",
      "execution_count": null,
      "outputs": []
    },
    {
      "metadata": {
        "trusted": true,
        "_uuid": "a3c3adab963c0c476cd47a6915e475ad86242479",
        "scrolled": false
      },
      "cell_type": "code",
      "source": "correlations.sort_values([\"price\"], ascending = False)",
      "execution_count": null,
      "outputs": []
    },
    {
      "metadata": {
        "trusted": true,
        "_uuid": "71545647ed9d2748d4827e9e95f3384d5c86f127"
      },
      "cell_type": "code",
      "source": "train_data,test_data = train_test_split(dataset,test_size=0.2,random_state=42)",
      "execution_count": null,
      "outputs": []
    },
    {
      "metadata": {
        "trusted": true,
        "_uuid": "9a98edacbc7fd9bced16e68779095e785ddf5e9d"
      },
      "cell_type": "code",
      "source": "# We will take only those independent variables which are corelated to the output variable \"price\"\nfeatures1=[\"sqft_living\",\"grade\",\"sqft_above\",\"sqft_living15\",\"bathrooms\",\"view\",\"sqft_basement\",\"bedrooms\",\"lat\",\"waterfront\",\"floors\"]\nlinreg2 = LinearRegression()\nX_train = train_data[features1].values\ny_train = train_data[[\"price\"]].values\nX_test = test_data[features1].values\ny_test = test_data[[\"price\"]].values\n\nlinreg2.fit(X_train,y_train)\ny_pred = linreg2.predict(X_test)",
      "execution_count": null,
      "outputs": []
    },
    {
      "metadata": {
        "trusted": true,
        "_uuid": "397f1b1ed482c92d77cd9575b8e4c4e3282ceaf0"
      },
      "cell_type": "code",
      "source": "mse2 = np.sqrt(metrics.mean_squared_error(y_test,y_pred))\nR2_test2 = metrics.r2_score(y_test,y_pred)\nAdj_R2_test2 = adjustedR2(R2_test2,X_test.shape[0],X_test.shape[1])\nevaluation=evaluation.append({\"Model\":\"Multivariate Linear\",\"Details\":\"\",\"RMSE\":mse2, \"R2-train\":\"\",\"Adj-R2-train\":\"\",\"R2-test\":R2_test2,\"Adj-R2-test\":Adj_R2_test2},ignore_index=True)",
      "execution_count": null,
      "outputs": []
    },
    {
      "metadata": {
        "trusted": true,
        "_uuid": "75c2fae7533f6e67f2d3f98b93e6bdfe430565eb"
      },
      "cell_type": "code",
      "source": "evaluation",
      "execution_count": null,
      "outputs": []
    },
    {
      "metadata": {
        "trusted": true,
        "_uuid": "ea731de163485204021f08b9049e28921db49cd3"
      },
      "cell_type": "code",
      "source": "# Lets have a Polynomial Linear Regression\npolyreg = PolynomialFeatures(degree = 2)\nX_train = train_data[features1].values\ny_train = train_data[[\"price\"]].values\nX_test = test_data[features1].values\ny_test = test_data[[\"price\"]].values\n\nX_poly_train = polyreg.fit_transform(X_train) \nX_poly_test = polyreg.fit_transform(X_test)",
      "execution_count": null,
      "outputs": []
    },
    {
      "metadata": {
        "trusted": true,
        "_uuid": "670698c0247d0285edd7518cc380ab48619701c5"
      },
      "cell_type": "code",
      "source": "X_train.shape",
      "execution_count": null,
      "outputs": []
    },
    {
      "metadata": {
        "trusted": true,
        "_uuid": "9b91b49d0133b456be8d64a51c436401d88b42e6"
      },
      "cell_type": "code",
      "source": "X_poly_train.shape",
      "execution_count": null,
      "outputs": []
    },
    {
      "metadata": {
        "trusted": true,
        "_uuid": "f6676d734f0bdd7c9370e5f4ac1cb1150cc95744"
      },
      "cell_type": "code",
      "source": "linreg2.fit(X_poly_train,y_train)\ny_pred = linreg2.predict(X_poly_test)",
      "execution_count": null,
      "outputs": []
    },
    {
      "metadata": {
        "trusted": true,
        "_uuid": "e1f53b5f5e42c723274b859d52860fd9c2a03bd9"
      },
      "cell_type": "code",
      "source": "mse3 = np.sqrt(metrics.mean_squared_error(y_test,y_pred))\nR2_test3 = metrics.r2_score(y_test,y_pred)\nAdj_R2_test3 = adjustedR2(R2_test3,X_poly_test.shape[0],X_poly_test.shape[1])\nevaluation=evaluation.append({\"Model\":\"Polynomial Linear-2\",\"Details\":\"\",\"RMSE\":mse3, \"R2-train\":\"\",\"Adj-R2-train\":\"\",\"R2-test\":R2_test3,\"Adj-R2-test\":Adj_R2_test3},ignore_index=True)",
      "execution_count": null,
      "outputs": []
    },
    {
      "metadata": {
        "trusted": true,
        "_uuid": "89e9d2e778c7c1c6f0e5953a5e8367c8815ae103"
      },
      "cell_type": "code",
      "source": "polyreg = PolynomialFeatures(degree = 3)\nX_train = train_data[features1].values\ny_train = train_data[[\"price\"]].values\nX_test = test_data[features1].values\ny_test = test_data[[\"price\"]].values\n\nX_poly_train = polyreg.fit_transform(X_train) \nX_poly_test = polyreg.fit_transform(X_test)\n\nlinreg2.fit(X_poly_train,y_train)\ny_pred = linreg2.predict(X_poly_test)",
      "execution_count": null,
      "outputs": []
    },
    {
      "metadata": {
        "trusted": true,
        "_uuid": "729cad7754ae23600cd56f6e9607c7e1881e3a86"
      },
      "cell_type": "code",
      "source": "mse4 = np.sqrt(metrics.mean_squared_error(y_test,y_pred))\nR2_test4 = metrics.r2_score(y_test,y_pred)\nAdj_R2_test4 = adjustedR2(R2_test4,X_poly_test.shape[0],X_poly_test.shape[1])\nevaluation=evaluation.append({\"Model\":\"Polynomial Linear-3\",\"Details\":\"\",\"RMSE\":mse4, \"R2-train\":\"\",\"Adj-R2-train\":\"\",\"R2-test\":R2_test4,\"Adj-R2-test\":Adj_R2_test4},ignore_index=True)",
      "execution_count": null,
      "outputs": []
    },
    {
      "metadata": {
        "trusted": true,
        "_uuid": "61eaa37d87be9c4fc4453b122cbbbf02353cbfc3"
      },
      "cell_type": "code",
      "source": "evaluation",
      "execution_count": null,
      "outputs": []
    },
    {
      "metadata": {
        "trusted": true,
        "_uuid": "65afb351eb6a42ccf62930009b4504ea28f1d878"
      },
      "cell_type": "code",
      "source": "",
      "execution_count": null,
      "outputs": []
    }
  ],
  "metadata": {
    "kernelspec": {
      "display_name": "Python 3",
      "language": "python",
      "name": "python3"
    },
    "language_info": {
      "name": "python",
      "version": "3.6.6",
      "mimetype": "text/x-python",
      "codemirror_mode": {
        "name": "ipython",
        "version": 3
      },
      "pygments_lexer": "ipython3",
      "nbconvert_exporter": "python",
      "file_extension": ".py"
    }
  },
  "nbformat": 4,
  "nbformat_minor": 1
}